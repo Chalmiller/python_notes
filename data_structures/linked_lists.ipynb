{
 "cells": [
  {
   "cell_type": "markdown",
   "id": "guided-tucson",
   "metadata": {},
   "source": [
    "### Reverse a Linked List"
   ]
  },
  {
   "cell_type": "code",
   "execution_count": 1,
   "id": "religious-involvement",
   "metadata": {},
   "outputs": [
    {
     "ename": "ModuleNotFoundError",
     "evalue": "No module named 'Node'",
     "output_type": "error",
     "traceback": [
      "\u001b[0;31m---------------------------------------------------------------------------\u001b[0m",
      "\u001b[0;31mModuleNotFoundError\u001b[0m                       Traceback (most recent call last)",
      "\u001b[0;32m<ipython-input-1-cd446a8526cc>\u001b[0m in \u001b[0;36m<module>\u001b[0;34m\u001b[0m\n\u001b[0;32m----> 1\u001b[0;31m \u001b[0;32mfrom\u001b[0m \u001b[0mNode\u001b[0m \u001b[0;32mimport\u001b[0m \u001b[0mNode\u001b[0m\u001b[0;34m\u001b[0m\u001b[0;34m\u001b[0m\u001b[0m\n\u001b[0m\u001b[1;32m      2\u001b[0m \u001b[0;32mfrom\u001b[0m \u001b[0mLinkedList\u001b[0m \u001b[0;32mimport\u001b[0m \u001b[0mLinkedList\u001b[0m\u001b[0;34m\u001b[0m\u001b[0;34m\u001b[0m\u001b[0m\n\u001b[1;32m      3\u001b[0m \u001b[0;31m#Access head_node => list.get_head()\u001b[0m\u001b[0;34m\u001b[0m\u001b[0;34m\u001b[0m\u001b[0;34m\u001b[0m\u001b[0m\n\u001b[1;32m      4\u001b[0m \u001b[0;31m#Check if list is empty => list.is_empty()\u001b[0m\u001b[0;34m\u001b[0m\u001b[0;34m\u001b[0m\u001b[0;34m\u001b[0m\u001b[0m\n\u001b[1;32m      5\u001b[0m \u001b[0;31m#Delete at head => list.delete_at_head()\u001b[0m\u001b[0;34m\u001b[0m\u001b[0;34m\u001b[0m\u001b[0;34m\u001b[0m\u001b[0m\n",
      "\u001b[0;31mModuleNotFoundError\u001b[0m: No module named 'Node'"
     ]
    }
   ],
   "source": [
    "from Node import Node\n",
    "from LinkedList import LinkedList\n",
    "#Access head_node => list.get_head()\n",
    "#Check if list is empty => list.is_empty()\n",
    "#Delete at head => list.delete_at_head()\n",
    "#Delete by value => list.delete(value)\n",
    "#Search for element => list.search()\n",
    "#Length of the list => list.length()\n",
    "#Node class  { int data ; Node next_element;}\n",
    "\n",
    "def reverse(lst):\n",
    "  prev = None\n",
    "  curr = lst.get_head()\n",
    "\n",
    "  while curr:\n",
    "    _next = curr.next_element\n",
    "    curr.next_element = prev\n",
    "    prev = curr\n",
    "    curr = _next\n",
    "\n",
    "    lst.head_node = prev\n",
    "\n",
    "  return lst"
   ]
  },
  {
   "cell_type": "markdown",
   "id": "following-nancy",
   "metadata": {},
   "source": [
    "### Find a loop in a linked list"
   ]
  },
  {
   "cell_type": "code",
   "execution_count": 3,
   "id": "strong-cookie",
   "metadata": {},
   "outputs": [
    {
     "ename": "ModuleNotFoundError",
     "evalue": "No module named 'LinkedList'",
     "output_type": "error",
     "traceback": [
      "\u001b[0;31m---------------------------------------------------------------------------\u001b[0m",
      "\u001b[0;31mModuleNotFoundError\u001b[0m                       Traceback (most recent call last)",
      "\u001b[0;32m<ipython-input-3-94fefe41dfa3>\u001b[0m in \u001b[0;36m<module>\u001b[0;34m\u001b[0m\n\u001b[0;32m----> 1\u001b[0;31m \u001b[0;32mfrom\u001b[0m \u001b[0mLinkedList\u001b[0m \u001b[0;32mimport\u001b[0m \u001b[0mLinkedList\u001b[0m\u001b[0;34m\u001b[0m\u001b[0;34m\u001b[0m\u001b[0m\n\u001b[0m\u001b[1;32m      2\u001b[0m \u001b[0;32mfrom\u001b[0m \u001b[0mNode\u001b[0m \u001b[0;32mimport\u001b[0m \u001b[0mNode\u001b[0m\u001b[0;34m\u001b[0m\u001b[0;34m\u001b[0m\u001b[0m\n\u001b[1;32m      3\u001b[0m \u001b[0;31m# Access head_node => list.get_head()\u001b[0m\u001b[0;34m\u001b[0m\u001b[0;34m\u001b[0m\u001b[0;34m\u001b[0m\u001b[0m\n\u001b[1;32m      4\u001b[0m \u001b[0;31m# Check if list is empty => list.is_empty()\u001b[0m\u001b[0;34m\u001b[0m\u001b[0;34m\u001b[0m\u001b[0;34m\u001b[0m\u001b[0m\n\u001b[1;32m      5\u001b[0m \u001b[0;31m# Delete at head => list.delete_at_head()\u001b[0m\u001b[0;34m\u001b[0m\u001b[0;34m\u001b[0m\u001b[0;34m\u001b[0m\u001b[0m\n",
      "\u001b[0;31mModuleNotFoundError\u001b[0m: No module named 'LinkedList'"
     ]
    }
   ],
   "source": [
    "from LinkedList import LinkedList\n",
    "from Node import Node\n",
    "# Access head_node => list.get_head()\n",
    "# Check if list is empty => list.is_empty()\n",
    "# Delete at head => list.delete_at_head()\n",
    "# Delete by value => list.delete(value)\n",
    "# Search for element => list.search()\n",
    "# Length of the list => list.length()\n",
    "# Node class  { int data ; Node next_element;}\n",
    "\n",
    "\n",
    "def detect_loop(lst):\n",
    "    if lst.is_empty():\n",
    "        return False\n",
    "    head = lst.get_head()\n",
    "\n",
    "    fast = head\n",
    "    slow = head\n",
    "    while slow and fast and fast.next_element:\n",
    "        slow = slow.next_element\n",
    "        fast = fast.next_element.next_element\n",
    "        if fast == slow:\n",
    "            return True\n",
    "\n",
    "    return False"
   ]
  },
  {
   "cell_type": "code",
   "execution_count": null,
   "id": "induced-miracle",
   "metadata": {},
   "outputs": [],
   "source": []
  }
 ],
 "metadata": {
  "kernelspec": {
   "display_name": "Python 3",
   "language": "python",
   "name": "python3"
  },
  "language_info": {
   "codemirror_mode": {
    "name": "ipython",
    "version": 3
   },
   "file_extension": ".py",
   "mimetype": "text/x-python",
   "name": "python",
   "nbconvert_exporter": "python",
   "pygments_lexer": "ipython3",
   "version": "3.8.5"
  }
 },
 "nbformat": 4,
 "nbformat_minor": 5
}
