{
 "cells": [
  {
   "cell_type": "markdown",
   "id": "starting-redhead",
   "metadata": {},
   "source": [
    "### Threads in Python\n",
    "\n",
    "Using Threads:\n",
    "- this will just subclass the thread class and print its name to stdout"
   ]
  },
  {
   "cell_type": "code",
   "execution_count": 2,
   "id": "laughing-baking",
   "metadata": {},
   "outputs": [
    {
     "name": "stdout",
     "output_type": "stream",
     "text": [
      "Thread #4 is runningThread #5 is running\n",
      "\n",
      "Thread #1 is runningThread #3 is running\n",
      "\n",
      "Thread #2 is running\n"
     ]
    }
   ],
   "source": [
    "import random\n",
    "import time\n",
    "\n",
    "from threading import Thread\n",
    "\n",
    "class MyThread(Thread):\n",
    "    \"\"\"\n",
    "    A threading example\n",
    "    \"\"\"\n",
    "\n",
    "    def __init__(self, name):\n",
    "        \"\"\"Initialize the thread\"\"\"\n",
    "        Thread.__init__(self)\n",
    "        self.name = name\n",
    "\n",
    "    def run(self):\n",
    "        \"\"\"Run the thread\"\"\"\n",
    "        amount = random.randint(1, 3)\n",
    "        time.sleep(amount)\n",
    "        msg = \"%s is running\" % self.name\n",
    "        print(msg)\n",
    "\n",
    "def create_threads():\n",
    "    \"\"\"\n",
    "    Create a group of threads\n",
    "    \"\"\"\n",
    "    for i in range(5):\n",
    "        name = \"Thread #%s\" % (i+1)\n",
    "        my_thread = MyThread(name)\n",
    "        my_thread.start()\n",
    "\n",
    "if __name__ == \"__main__\":\n",
    "    create_threads()"
   ]
  },
  {
   "cell_type": "markdown",
   "id": "sweet-training",
   "metadata": {},
   "source": [
    "### Writing a Threaded Downloader\n",
    "\n",
    "This script will generate a thread class that can download files from the internet"
   ]
  },
  {
   "cell_type": "code",
   "execution_count": 5,
   "id": "discrete-tooth",
   "metadata": {},
   "outputs": [
    {
     "name": "stdout",
     "output_type": "stream",
     "text": [
      "Thread 5 has finished downloading http://www.irs.gov/pub/irs-pdf/f1040sb.pdf!\n",
      "Thread 1 has finished downloading http://www.irs.gov/pub/irs-pdf/f1040.pdf!\n",
      "Thread 4 has finished downloading http://www.irs.gov/pub/irs-pdf/f1040es.pdf!\n",
      "Thread 3 has finished downloading http://www.irs.gov/pub/irs-pdf/f1040ez.pdf!\n",
      "Thread 2 has finished downloading http://www.irs.gov/pub/irs-pdf/f1040a.pdf!\n"
     ]
    }
   ],
   "source": [
    "# Python 3 version\n",
    "\n",
    "import os\n",
    "import urllib.request\n",
    "\n",
    "from threading import Thread\n",
    "\n",
    "class DownloadThread(Thread):\n",
    "    \"\"\"\n",
    "    A threading example that can download a file\n",
    "    \"\"\"\n",
    "\n",
    "    def __init__(self, url, name):\n",
    "        \"\"\"Initialize the thread\"\"\"\n",
    "        Thread.__init__(self)\n",
    "        self.name = name\n",
    "        self.url = url\n",
    "\n",
    "    def run(self):\n",
    "        \"\"\"Run the thread\"\"\"\n",
    "        handle = urllib.request.urlopen(self.url)\n",
    "        fname = os.path.basename(self.url)\n",
    "        with open(fname, \"wb\") as f_handler:\n",
    "            while True:\n",
    "                chunk = handle.read(1024)\n",
    "                if not chunk:\n",
    "                    break\n",
    "                f_handler.write(chunk)\n",
    "        msg = \"%s has finished downloading %s!\" % (self.name,\n",
    "                                                   self.url)\n",
    "        print(msg)\n",
    "\n",
    "def main(urls):\n",
    "    \"\"\"\n",
    "    Run the program\n",
    "    \"\"\"\n",
    "    for item, url in enumerate(urls):\n",
    "        name = \"Thread %s\" % (item+1)\n",
    "        thread = DownloadThread(url, name)\n",
    "        thread.start()\n",
    "\n",
    "if __name__ == \"__main__\":\n",
    "    urls = [\"http://www.irs.gov/pub/irs-pdf/f1040.pdf\",\n",
    "            \"http://www.irs.gov/pub/irs-pdf/f1040a.pdf\",\n",
    "            \"http://www.irs.gov/pub/irs-pdf/f1040ez.pdf\",\n",
    "            \"http://www.irs.gov/pub/irs-pdf/f1040es.pdf\",\n",
    "            \"http://www.irs.gov/pub/irs-pdf/f1040sb.pdf\"]\n",
    "    main(urls)"
   ]
  },
  {
   "cell_type": "markdown",
   "id": "written-bacon",
   "metadata": {},
   "source": [
    "### Using Queues\n",
    "\n",
    "This will mix threads with queues"
   ]
  },
  {
   "cell_type": "code",
   "execution_count": 7,
   "id": "modular-public",
   "metadata": {},
   "outputs": [
    {
     "name": "stdout",
     "output_type": "stream",
     "text": [
      "Finished downloading http://www.irs.gov/pub/irs-pdf/f1040es.pdf!\n",
      "Finished downloading http://www.irs.gov/pub/irs-pdf/f1040.pdf!\n",
      "Finished downloading http://www.irs.gov/pub/irs-pdf/f1040ez.pdf!\n",
      "Finished downloading http://www.irs.gov/pub/irs-pdf/f1040a.pdf!\n",
      "Finished downloading http://www.irs.gov/pub/irs-pdf/f1040sb.pdf!\n"
     ]
    }
   ],
   "source": [
    "import os    \n",
    "import threading\n",
    "import urllib.request\n",
    "\n",
    "from queue import Queue\n",
    "\n",
    "class Downloader(threading.Thread):\n",
    "    \"\"\"Threaded File Downloader\"\"\"\n",
    "\n",
    "    def __init__(self, queue):\n",
    "        \"\"\"Initialize the thread\"\"\"\n",
    "        threading.Thread.__init__(self)\n",
    "        self.queue = queue\n",
    "\n",
    "    def run(self):\n",
    "        \"\"\"Run the thread\"\"\"\n",
    "        while True:\n",
    "            # gets the url from the queue\n",
    "            url = self.queue.get()\n",
    "\n",
    "            # download the file\n",
    "            self.download_file(url)\n",
    "\n",
    "            # send a signal to the queue that the job is done\n",
    "            self.queue.task_done()\n",
    "\n",
    "    def download_file(self, url):\n",
    "        \"\"\"Download the file\"\"\"\n",
    "        handle = urllib.request.urlopen(url)\n",
    "        fname = os.path.basename(url)\n",
    "        with open(fname, \"wb\") as f:\n",
    "            while True:\n",
    "                chunk = handle.read(1024)\n",
    "                if not chunk: break\n",
    "                f.write(chunk)\n",
    "        msg = \"Finished downloading %s!\" % (url)\n",
    "        print(msg)\n",
    "\n",
    "def main(urls):\n",
    "    \"\"\"\n",
    "    Run the program\n",
    "    \"\"\"\n",
    "    queue = Queue()\n",
    "\n",
    "    # create a thread pool and give them a queue\n",
    "    for i in range(5):\n",
    "        t = Downloader(queue)\n",
    "        t.setDaemon(True)\n",
    "        t.start()\n",
    "\n",
    "    # give the queue some data\n",
    "    for url in urls:\n",
    "        queue.put(url)\n",
    "\n",
    "    # wait for the queue to finish\n",
    "    queue.join()\n",
    "\n",
    "if __name__ == \"__main__\":\n",
    "    urls = [\"http://www.irs.gov/pub/irs-pdf/f1040.pdf\",\n",
    "            \"http://www.irs.gov/pub/irs-pdf/f1040a.pdf\",\n",
    "            \"http://www.irs.gov/pub/irs-pdf/f1040ez.pdf\",\n",
    "            \"http://www.irs.gov/pub/irs-pdf/f1040es.pdf\",\n",
    "            \"http://www.irs.gov/pub/irs-pdf/f1040sb.pdf\"]\n",
    "    main(urls)"
   ]
  },
  {
   "cell_type": "code",
   "execution_count": null,
   "id": "nuclear-priest",
   "metadata": {},
   "outputs": [],
   "source": []
  }
 ],
 "metadata": {
  "kernelspec": {
   "display_name": "Python 3",
   "language": "python",
   "name": "python3"
  },
  "language_info": {
   "codemirror_mode": {
    "name": "ipython",
    "version": 3
   },
   "file_extension": ".py",
   "mimetype": "text/x-python",
   "name": "python",
   "nbconvert_exporter": "python",
   "pygments_lexer": "ipython3",
   "version": "3.8.5"
  }
 },
 "nbformat": 4,
 "nbformat_minor": 5
}
