{
 "cells": [
  {
   "cell_type": "markdown",
   "id": "requested-ivory",
   "metadata": {},
   "source": [
    "# The Python Debugger\n",
    "\n",
    "## Debugger module in Python\n",
    "\n",
    "Python comes witha. built in debugger called pdb\n",
    "\n",
    "Invocation is easy and can be done by the following"
   ]
  },
  {
   "cell_type": "code",
   "execution_count": 1,
   "id": "affected-timing",
   "metadata": {},
   "outputs": [
    {
     "ename": "SyntaxError",
     "evalue": "invalid syntax (<ipython-input-1-d032af9645cf>, line 1)",
     "output_type": "error",
     "traceback": [
      "\u001b[0;36m  File \u001b[0;32m\"<ipython-input-1-d032af9645cf>\"\u001b[0;36m, line \u001b[0;32m1\u001b[0m\n\u001b[0;31m    python -m pdb debug_test.py\u001b[0m\n\u001b[0m              ^\u001b[0m\n\u001b[0;31mSyntaxError\u001b[0m\u001b[0;31m:\u001b[0m invalid syntax\n"
     ]
    }
   ],
   "source": [
    "python -m pdb debug_test.py"
   ]
  },
  {
   "cell_type": "markdown",
   "id": "sharp-scheduling",
   "metadata": {},
   "source": [
    "### Stepping Through the Code:\n",
    "\n",
    "The `s` command can be used to step through the code one line at a time\n",
    "\n",
    "### Setting breakpoints:\n",
    "\n",
    "one can use the `break` command to set a breakpoint. \n",
    "This is done by calling break followed by the line of the desired breakpoint"
   ]
  },
  {
   "cell_type": "code",
   "execution_count": null,
   "id": "liable-argument",
   "metadata": {},
   "outputs": [],
   "source": []
  }
 ],
 "metadata": {
  "kernelspec": {
   "display_name": "Python 3",
   "language": "python",
   "name": "python3"
  },
  "language_info": {
   "codemirror_mode": {
    "name": "ipython",
    "version": 3
   },
   "file_extension": ".py",
   "mimetype": "text/x-python",
   "name": "python",
   "nbconvert_exporter": "python",
   "pygments_lexer": "ipython3",
   "version": "3.8.5"
  }
 },
 "nbformat": 4,
 "nbformat_minor": 5
}
