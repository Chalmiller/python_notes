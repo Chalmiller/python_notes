{
 "cells": [
  {
   "cell_type": "markdown",
   "id": "drawn-chocolate",
   "metadata": {},
   "source": [
    "### Date and time in Python\n",
    "\n",
    "datetime module includes:\n",
    "- datetime.date\n",
    "- datetime.timedelta\n",
    "- datetime.datetime\n",
    "\n",
    "tzinfo is also a time module that deals with timezones"
   ]
  },
  {
   "cell_type": "markdown",
   "id": "continent-table",
   "metadata": {},
   "source": [
    "#### datetime.date\n"
   ]
  },
  {
   "cell_type": "code",
   "execution_count": 2,
   "id": "according-plumbing",
   "metadata": {},
   "outputs": [
    {
     "name": "stdout",
     "output_type": "stream",
     "text": [
      "2012\n",
      "14\n",
      "12\n"
     ]
    }
   ],
   "source": [
    "import datetime\n",
    "d = datetime.date(2012, 12, 14)\n",
    "print(d.year)\n",
    "#2012\n",
    "\n",
    "print(d.day)\n",
    "#14\n",
    "\n",
    "print(d.month)\n",
    "#12"
   ]
  },
  {
   "cell_type": "code",
   "execution_count": 3,
   "id": "accomplished-leone",
   "metadata": {},
   "outputs": [
    {
     "name": "stdout",
     "output_type": "stream",
     "text": [
      "2014-03-05\n"
     ]
    }
   ],
   "source": [
    "import datetime\n",
    "\n",
    "datetime.date.today()\n",
    "print(datetime.date(2014, 3, 5))\n",
    "#2014-03-05"
   ]
  },
  {
   "cell_type": "markdown",
   "id": "united-tunnel",
   "metadata": {},
   "source": [
    "#### datetime.datetime\n",
    "\n",
    "contains all of the information from a datetime.date plus a datetime.time object"
   ]
  },
  {
   "cell_type": "code",
   "execution_count": 4,
   "id": "individual-baghdad",
   "metadata": {},
   "outputs": [
    {
     "name": "stdout",
     "output_type": "stream",
     "text": [
      "2014-03-05 00:00:00\n",
      "2014-03-05 12:30:10\n",
      "2014\n",
      "10\n",
      "12\n"
     ]
    }
   ],
   "source": [
    "import datetime\n",
    "\n",
    "print(datetime.datetime(2014, 3, 5))\n",
    "# 2014-03-05 00:00:00 datetime.datetime(2014, 3, 5, 0, 0)\n",
    "\n",
    "print(datetime.datetime(2014, 3, 5, 12, 30, 10))\n",
    "# 2014-03-05 12:30:10 datetime.datetime(2014, 3, 5, 12, 30, 10)\n",
    "\n",
    "d = datetime.datetime(2014, 3, 5, 12, 30, 10)\n",
    "print(d.year)\n",
    "#2014\n",
    "\n",
    "print(d.second)\n",
    "#10\n",
    "\n",
    "print(d.hour)\n",
    "#12"
   ]
  },
  {
   "cell_type": "markdown",
   "id": "excellent-content",
   "metadata": {},
   "source": [
    "#### strftime"
   ]
  },
  {
   "cell_type": "code",
   "execution_count": 5,
   "id": "challenging-logan",
   "metadata": {},
   "outputs": [
    {
     "name": "stdout",
     "output_type": "stream",
     "text": [
      "20210225\n",
      "02/25/2021\n",
      "2021-02-25-14.37.23\n"
     ]
    }
   ],
   "source": [
    "import datetime\n",
    "\n",
    "print(datetime.datetime.today().strftime(\"%Y%m%d\"))\n",
    "#20161230\n",
    "\n",
    "today = datetime.datetime.today()\n",
    "print(today.strftime(\"%m/%d/%Y\"))\n",
    "#12/30/2016\n",
    "\n",
    "print(today.strftime(\"%Y-%m-%d-%H.%M.%S\"))\n",
    "#2016-12-30-09.13.58"
   ]
  },
  {
   "cell_type": "markdown",
   "id": "shaped-round",
   "metadata": {},
   "source": [
    "#### datetime.timedelta\n",
    "represents a time duration between two dates or times"
   ]
  },
  {
   "cell_type": "code",
   "execution_count": 6,
   "id": "electronic-centre",
   "metadata": {},
   "outputs": [
    {
     "name": "stdout",
     "output_type": "stream",
     "text": [
      "2021-02-25 14:39:06.592245\n",
      "<class 'datetime.timedelta'>\n",
      "2556\n",
      "52746\n"
     ]
    }
   ],
   "source": [
    "import datetime\n",
    "\n",
    "now = datetime.datetime.now()\n",
    "print(now)\n",
    "#2016-12-30 09:24:02.233647\n",
    "\n",
    "then = datetime.datetime(2014, 2, 26)\n",
    "delta = now - then\n",
    "print(type(delta))\n",
    "#<type 'datetime.timedelta'>\n",
    "\n",
    "print(delta.days)\n",
    "#1038\n",
    "\n",
    "print(delta.seconds)\n",
    "#33842"
   ]
  },
  {
   "cell_type": "code",
   "execution_count": 7,
   "id": "proprietary-glasgow",
   "metadata": {},
   "outputs": [
    {
     "name": "stdout",
     "output_type": "stream",
     "text": [
      "61358.0\n",
      "39.0\n"
     ]
    }
   ],
   "source": [
    "import datetime\n",
    "\n",
    "now = datetime.datetime.now()\n",
    "then = datetime.datetime(2014, 2, 26)\n",
    "delta = now - then\n",
    "\n",
    "seconds = delta.total_seconds()\n",
    "hours = seconds // 3600\n",
    "print(hours)\n",
    "#24921.0\n",
    "\n",
    "minutes = (seconds % 3600) // 60\n",
    "print(minutes)\n",
    "#34.0"
   ]
  },
  {
   "cell_type": "markdown",
   "id": "meaning-chemistry",
   "metadata": {},
   "source": [
    "### The Time Module\n",
    "\n",
    "The following will be covered:\n",
    "- time.ctime\n",
    "- time.sleep\n",
    "- time.strftime\n",
    "- time.time\n",
    "\n",
    "To find find the epoch on your system, run the following"
   ]
  },
  {
   "cell_type": "code",
   "execution_count": 8,
   "id": "broadband-grove",
   "metadata": {},
   "outputs": [
    {
     "name": "stdout",
     "output_type": "stream",
     "text": [
      "time.struct_time(tm_year=1970, tm_mon=1, tm_mday=1, tm_hour=0, tm_min=0, tm_sec=0, tm_wday=3, tm_yday=1, tm_isdst=0)\n"
     ]
    }
   ],
   "source": [
    "import time\n",
    "print(time.gmtime(0))\n",
    "#time.struct_time(tm_year=1970, tm_mon=1, tm_mday=1, tm_hour=0, tm_min=0, tm_sec=0, tm_wday=3, tm_yday=1, tm_isdst=0)"
   ]
  },
  {
   "cell_type": "markdown",
   "id": "varying-modern",
   "metadata": {},
   "source": [
    "#### time.ctime\n",
    "\n",
    "converts a time in seconds since the epoch to a string representing local time"
   ]
  },
  {
   "cell_type": "code",
   "execution_count": 9,
   "id": "sunset-bowling",
   "metadata": {},
   "outputs": [
    {
     "name": "stdout",
     "output_type": "stream",
     "text": [
      "Thu Feb 25 14:43:57 2021\n",
      "Sun Nov 10 11:43:59 2013\n"
     ]
    }
   ],
   "source": [
    "import time\n",
    "print(time.ctime())\n",
    "#'Fri Dec 30 17:11:58 2016'\n",
    "\n",
    "print(time.ctime(1384112639))\n",
    "#'Sun Nov 10 19:43:59 2013'"
   ]
  },
  {
   "cell_type": "markdown",
   "id": "naked-teach",
   "metadata": {},
   "source": [
    "#### time.sleep\n",
    "gives the developer the ability to suspend execution of your script a given number of seconds"
   ]
  },
  {
   "cell_type": "code",
   "execution_count": 11,
   "id": "serial-mobility",
   "metadata": {},
   "outputs": [
    {
     "name": "stdout",
     "output_type": "stream",
     "text": [
      "Thu Feb 25 14:44:49 2021: Slept for 2 seconds\n",
      "Thu Feb 25 14:44:51 2021: Slept for 2 seconds\n",
      "Thu Feb 25 14:44:53 2021: Slept for 2 seconds\n",
      "Thu Feb 25 14:44:55 2021: Slept for 2 seconds\n",
      "Thu Feb 25 14:44:57 2021: Slept for 2 seconds\n"
     ]
    }
   ],
   "source": [
    "import time\n",
    "\n",
    "for x in range(5):\n",
    "    time.sleep(2)\n",
    "    print(\"%s: Slept for 2 seconds\" % time.ctime())"
   ]
  },
  {
   "cell_type": "markdown",
   "id": "proof-proportion",
   "metadata": {},
   "source": [
    "#### time.strftime\n"
   ]
  },
  {
   "cell_type": "code",
   "execution_count": 12,
   "id": "tutorial-sunglasses",
   "metadata": {},
   "outputs": [
    {
     "name": "stdout",
     "output_type": "stream",
     "text": [
      "2021-02-25-14.45.57\n"
     ]
    }
   ],
   "source": [
    "import time\n",
    "\n",
    "print(time.strftime(\"%Y-%m-%d-%H.%M.%S\",time.localtime()))\n",
    "#'2016-12-30-17.14.35'"
   ]
  },
  {
   "cell_type": "markdown",
   "id": "centered-aspect",
   "metadata": {},
   "source": [
    "#### time.time\n",
    "will return the time in seconds since the epoch as a floating point number"
   ]
  },
  {
   "cell_type": "code",
   "execution_count": 13,
   "id": "presidential-secret",
   "metadata": {},
   "outputs": [
    {
     "name": "stdout",
     "output_type": "stream",
     "text": [
      "1614293220.814475\n"
     ]
    }
   ],
   "source": [
    "import time\n",
    "\n",
    "print(time.time())\n",
    "#1483118130.25"
   ]
  },
  {
   "cell_type": "markdown",
   "id": "bright-banner",
   "metadata": {},
   "source": []
  }
 ],
 "metadata": {
  "kernelspec": {
   "display_name": "Python 3",
   "language": "python",
   "name": "python3"
  },
  "language_info": {
   "codemirror_mode": {
    "name": "ipython",
    "version": 3
   },
   "file_extension": ".py",
   "mimetype": "text/x-python",
   "name": "python",
   "nbconvert_exporter": "python",
   "pygments_lexer": "ipython3",
   "version": "3.8.5"
  }
 },
 "nbformat": 4,
 "nbformat_minor": 5
}
